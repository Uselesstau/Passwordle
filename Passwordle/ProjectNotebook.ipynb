{
 "cells": [
  {
   "cell_type": "markdown",
   "id": "3f7eda57",
   "metadata": {},
   "source": [
    "# Passwordle!\n",
    "\n",
    "This is a short python project that challenges the user to guess a randomly generated password using various provided information. This game is very much inspired by the likes of Wordle, a game where you must guess a five letter word. Like Wordle, every guess displays information, if your letter was correct, in the wrong spot, or not in the word at all. However this version of Wordle has a very difficult twist.\n",
    "\n",
    "Unlike Wordle, the word can be as long as you want! And its not even a word, its a random set of characters to make a password! In addition to this, the password is case sensitive, but fear not, there are tools for you inorder to figure out the password.\n",
    "\n",
    "Here are the tools that you will need:\n",
    "\n",
    "- '/help': shows a list of all the tools\n",
    "\n",
    "- '/vowels': displays the number of each vowel in the password\n",
    "\n",
    "- '/caps': displays the number of capital letters in the password\n",
    "\n",
    "- '/middle': displays the middle most letter(s) in the password\n",
    "\n",
    "- '/end': gives the first and last letter of the password\n",
    "\n",
    "- '/common': gives the most common letter in the password\n",
    "\n",
    "- '/all_info': displays all of the above commands (except help)\n",
    "\n",
    "- '/quit': leaves the game\n",
    "\n",
    "- '/anser': if you ever give up, this tells you the answer\n",
    "\n",
    "Everytime you guess, you will recive feedback on your answer, the feed back is as follows:\n",
    "\n",
    "- '~' letter was incorect\n",
    "\n",
    "- ' * ' correct letter but was in the wrong spot\n",
    "\n",
    "- '^' correct letter but wrong punctuation\n",
    "\n",
    "- ' _ ' empty space (your guess was too short)\n",
    "\n",
    "**Side Notes:** I feel that if I given myself more time with this project I could have added significantly more content to this game. The following are some ideas I would have liked to add:\n",
    "\n",
    "- Beat the AI: An AI attempts the same password as you, you have to use less guesses than the AI to win\n",
    "\n",
    "- More commands: A lot of the time spent was brainstorming ways to make guessing less tedius (and also possible at higher letter counts). However I could not come up with anymore commands.\n",
    "\n",
    "- Complex difficulty selection: I wanted to give the user to choose between various difficulties, not just the length of the password. These difficulties would change if there were uppercase letters and the exsistance of special characters.\n",
    "\n",
    "- Generate personal password: If I added the difficulty selections, I would also give the option to create a password so the user can use it whever they want. Technecally they can do this now, but I want the user to be able to custimze it a little, for instance, adding a word or phrase at the start, then letter the code add random characters before and after the word.\n",
    "\n"
   ]
  },
  {
   "cell_type": "code",
   "execution_count": null,
   "id": "8873aac6",
   "metadata": {},
   "outputs": [],
   "source": [
    "from my_module.functions import start\n",
    "\n",
    "# Run Me!!!!!\n",
    "start()"
   ]
  },
  {
   "cell_type": "code",
   "execution_count": null,
   "id": "eb6c0a52",
   "metadata": {},
   "outputs": [],
   "source": [
    "from my_module.test_functions import test_end_points, test_vowels, test_middle, test_common\n",
    "\n",
    "# Test Functions, should pass silently\n",
    "\n",
    "test_end_points()\n",
    "test_vowels()\n",
    "test_middle()\n",
    "test_common()"
   ]
  },
  {
   "cell_type": "markdown",
   "id": "771960fe",
   "metadata": {},
   "source": [
    "**Extra Credit:**\n",
    "I have some experience with python, however I mostly code with c# using the unity library. I like to develope my own games like this! Because of this, I had the benefit of knowing general coding knowledge, however there were some syntax I had to learn throught the year. \n",
    "\n",
    "When it came to this project, I knew I wanted to create some sort of game by using pygame, however I was having some issues importing pygame into datahub, so I instead elected to go a bit more simple with a text based and user input game.\n",
    "\n",
    "When coding, my biggest struggle was learning how to manipulate a given string into multiple bits of information. Although some functions within the code were fairly simple, some information, like counting each vowel and finding the most common letter came with a larger gap of difficulty.\n",
    "\n",
    "Some parts of the concepts translated very well from c# and unity, for example I often find myself calculating for the closest/furthest object, whilst in this project, I used the same concept to find the most frequent letter. However even this still provided some challenge as I to figure out python handles these situations as c#/unity has its different syntax. "
   ]
  }
 ],
 "metadata": {
  "kernelspec": {
   "display_name": "Python 3 (ipykernel)",
   "language": "python",
   "name": "python3"
  },
  "language_info": {
   "codemirror_mode": {
    "name": "ipython",
    "version": 3
   },
   "file_extension": ".py",
   "mimetype": "text/x-python",
   "name": "python",
   "nbconvert_exporter": "python",
   "pygments_lexer": "ipython3",
   "version": "3.9.5"
  }
 },
 "nbformat": 4,
 "nbformat_minor": 5
}
